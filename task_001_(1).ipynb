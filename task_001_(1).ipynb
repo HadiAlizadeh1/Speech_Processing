{
  "nbformat": 4,
  "nbformat_minor": 0,
  "metadata": {
    "colab": {
      "provenance": [],
      "collapsed_sections": [],
      "include_colab_link": true
    },
    "kernelspec": {
      "name": "python3",
      "display_name": "Python 3"
    },
    "language_info": {
      "name": "python"
    }
  },
  "cells": [
    {
      "cell_type": "markdown",
      "metadata": {
        "id": "view-in-github",
        "colab_type": "text"
      },
      "source": [
        "<a href=\"https://colab.research.google.com/github/HadiAlizadeh1/mci-chatbot/blob/main/task_001_(1).ipynb\" target=\"_parent\"><img src=\"https://colab.research.google.com/assets/colab-badge.svg\" alt=\"Open In Colab\"/></a>"
      ]
    },
    {
      "cell_type": "code",
      "source": [
        "!pip install vosk\n",
        "!wget https://alphacephei.com/vosk/models/vosk-model-fa-0.5.zip\n",
        "!unzip vosk-model-fa-0.5.zip"
      ],
      "metadata": {
        "id": "y3xoR0Wyua9G",
        "colab": {
          "base_uri": "https://localhost:8080/"
        },
        "outputId": "55283977-e4ae-410c-eda2-a775788e36e2"
      },
      "execution_count": 1,
      "outputs": [
        {
          "output_type": "stream",
          "name": "stdout",
          "text": [
            "Looking in indexes: https://pypi.org/simple, https://us-python.pkg.dev/colab-wheels/public/simple/\n",
            "Collecting vosk\n",
            "  Downloading vosk-0.3.44-py3-none-manylinux_2_12_x86_64.manylinux2010_x86_64.whl (7.2 MB)\n",
            "\u001b[K     |████████████████████████████████| 7.2 MB 5.2 MB/s \n",
            "\u001b[?25hCollecting websockets\n",
            "  Downloading websockets-10.3-cp37-cp37m-manylinux_2_5_x86_64.manylinux1_x86_64.manylinux_2_12_x86_64.manylinux2010_x86_64.whl (112 kB)\n",
            "\u001b[K     |████████████████████████████████| 112 kB 44.7 MB/s \n",
            "\u001b[?25hRequirement already satisfied: cffi>=1.0 in /usr/local/lib/python3.7/dist-packages (from vosk) (1.15.1)\n",
            "Collecting srt\n",
            "  Downloading srt-3.5.2.tar.gz (24 kB)\n",
            "Requirement already satisfied: requests in /usr/local/lib/python3.7/dist-packages (from vosk) (2.23.0)\n",
            "Requirement already satisfied: tqdm in /usr/local/lib/python3.7/dist-packages (from vosk) (4.64.1)\n",
            "Requirement already satisfied: pycparser in /usr/local/lib/python3.7/dist-packages (from cffi>=1.0->vosk) (2.21)\n",
            "Requirement already satisfied: certifi>=2017.4.17 in /usr/local/lib/python3.7/dist-packages (from requests->vosk) (2022.6.15)\n",
            "Requirement already satisfied: idna<3,>=2.5 in /usr/local/lib/python3.7/dist-packages (from requests->vosk) (2.10)\n",
            "Requirement already satisfied: chardet<4,>=3.0.2 in /usr/local/lib/python3.7/dist-packages (from requests->vosk) (3.0.4)\n",
            "Requirement already satisfied: urllib3!=1.25.0,!=1.25.1,<1.26,>=1.21.1 in /usr/local/lib/python3.7/dist-packages (from requests->vosk) (1.24.3)\n",
            "Building wheels for collected packages: srt\n",
            "  Building wheel for srt (setup.py) ... \u001b[?25l\u001b[?25hdone\n",
            "  Created wheel for srt: filename=srt-3.5.2-py3-none-any.whl size=22487 sha256=d427693218696d86178945d219c3939d4be87ad1714b13c77ebde8a17a5843cf\n",
            "  Stored in directory: /root/.cache/pip/wheels/54/c4/ec/4604122e072aebb16803c8297b7cd3f4c72073a3ee58738015\n",
            "Successfully built srt\n",
            "Installing collected packages: websockets, srt, vosk\n",
            "Successfully installed srt-3.5.2 vosk-0.3.44 websockets-10.3\n",
            "--2022-09-27 13:23:28--  https://alphacephei.com/vosk/models/vosk-model-fa-0.5.zip\n",
            "Resolving alphacephei.com (alphacephei.com)... 188.40.21.16, 2a01:4f8:13a:279f::2\n",
            "Connecting to alphacephei.com (alphacephei.com)|188.40.21.16|:443... connected.\n",
            "HTTP request sent, awaiting response... 200 OK\n",
            "Length: 1130835264 (1.1G) [application/zip]\n",
            "Saving to: ‘vosk-model-fa-0.5.zip’\n",
            "\n",
            "vosk-model-fa-0.5.z 100%[===================>]   1.05G  24.9MB/s    in 44s     \n",
            "\n",
            "2022-09-27 13:24:13 (24.6 MB/s) - ‘vosk-model-fa-0.5.zip’ saved [1130835264/1130835264]\n",
            "\n",
            "Archive:  vosk-model-fa-0.5.zip\n",
            "   creating: vosk-model-fa-0.5/\n",
            "   creating: vosk-model-fa-0.5/rescore/\n",
            "  inflating: vosk-model-fa-0.5/rescore/G.carpa  \n",
            "  inflating: vosk-model-fa-0.5/rescore/G.fst  \n",
            "   creating: vosk-model-fa-0.5/test/\n",
            " extracting: vosk-model-fa-0.5/test/test.txt  \n",
            "  inflating: vosk-model-fa-0.5/test/test.wav  \n",
            "  inflating: vosk-model-fa-0.5/test/test_simple.py  \n",
            "   creating: vosk-model-fa-0.5/am/\n",
            "  inflating: vosk-model-fa-0.5/am/final.mdl  \n",
            "  inflating: vosk-model-fa-0.5/am/tree  \n",
            "   creating: vosk-model-fa-0.5/graph/\n",
            "  inflating: vosk-model-fa-0.5/graph/words.txt  \n",
            "  inflating: vosk-model-fa-0.5/graph/HCLG.fst  \n",
            "   creating: vosk-model-fa-0.5/graph/phones/\n",
            "  inflating: vosk-model-fa-0.5/graph/phones/word_boundary.int  \n",
            "   creating: vosk-model-fa-0.5/conf/\n",
            "  inflating: vosk-model-fa-0.5/conf/model.conf  \n",
            "  inflating: vosk-model-fa-0.5/conf/mfcc.conf  \n",
            "   creating: vosk-model-fa-0.5/ivector/\n",
            "  inflating: vosk-model-fa-0.5/ivector/splice.conf  \n",
            "  inflating: vosk-model-fa-0.5/ivector/final.dubm  \n",
            "  inflating: vosk-model-fa-0.5/ivector/global_cmvn.stats  \n",
            "  inflating: vosk-model-fa-0.5/ivector/final.ie  \n",
            "  inflating: vosk-model-fa-0.5/ivector/online_cmvn.conf  \n",
            "  inflating: vosk-model-fa-0.5/ivector/final.mat  \n",
            " extracting: vosk-model-fa-0.5/README  \n"
          ]
        }
      ]
    },
    {
      "cell_type": "code",
      "source": [
        "! pip install sounddevice"
      ],
      "metadata": {
        "id": "NhQpcYbqwmpz",
        "colab": {
          "base_uri": "https://localhost:8080/"
        },
        "outputId": "380cc188-a5fd-412c-eddb-517717f25fdc"
      },
      "execution_count": 2,
      "outputs": [
        {
          "output_type": "stream",
          "name": "stdout",
          "text": [
            "Looking in indexes: https://pypi.org/simple, https://us-python.pkg.dev/colab-wheels/public/simple/\n",
            "Collecting sounddevice\n",
            "  Downloading sounddevice-0.4.5-py3-none-any.whl (31 kB)\n",
            "Requirement already satisfied: CFFI>=1.0 in /usr/local/lib/python3.7/dist-packages (from sounddevice) (1.15.1)\n",
            "Requirement already satisfied: pycparser in /usr/local/lib/python3.7/dist-packages (from CFFI>=1.0->sounddevice) (2.21)\n",
            "Installing collected packages: sounddevice\n",
            "Successfully installed sounddevice-0.4.5\n"
          ]
        }
      ]
    },
    {
      "cell_type": "code",
      "source": [
        "! pip install pydub"
      ],
      "metadata": {
        "id": "gMbUlqZwyTqg",
        "colab": {
          "base_uri": "https://localhost:8080/"
        },
        "outputId": "1433d80b-d90c-4412-daa1-c3f6800bbd60"
      },
      "execution_count": 3,
      "outputs": [
        {
          "output_type": "stream",
          "name": "stdout",
          "text": [
            "Looking in indexes: https://pypi.org/simple, https://us-python.pkg.dev/colab-wheels/public/simple/\n",
            "Collecting pydub\n",
            "  Downloading pydub-0.25.1-py2.py3-none-any.whl (32 kB)\n",
            "Installing collected packages: pydub\n",
            "Successfully installed pydub-0.25.1\n"
          ]
        }
      ]
    },
    {
      "cell_type": "markdown",
      "source": [
        "# Record audio from your microphone\n",
        "\n",
        "---\n",
        "\n"
      ],
      "metadata": {
        "id": "GwdsGJgz853i"
      }
    },
    {
      "cell_type": "code",
      "source": [
        "!pip install ffmpeg-python"
      ],
      "metadata": {
        "id": "zBGST9Vx86ul",
        "colab": {
          "base_uri": "https://localhost:8080/"
        },
        "outputId": "94bfda61-70f3-41ca-82e7-0fa305fd9182"
      },
      "execution_count": 4,
      "outputs": [
        {
          "output_type": "stream",
          "name": "stdout",
          "text": [
            "Looking in indexes: https://pypi.org/simple, https://us-python.pkg.dev/colab-wheels/public/simple/\n",
            "Collecting ffmpeg-python\n",
            "  Downloading ffmpeg_python-0.2.0-py3-none-any.whl (25 kB)\n",
            "Requirement already satisfied: future in /usr/local/lib/python3.7/dist-packages (from ffmpeg-python) (0.16.0)\n",
            "Installing collected packages: ffmpeg-python\n",
            "Successfully installed ffmpeg-python-0.2.0\n"
          ]
        }
      ]
    },
    {
      "cell_type": "code",
      "source": [
        "import numpy as np"
      ],
      "metadata": {
        "id": "Ym3nk4tkLnnP"
      },
      "execution_count": 5,
      "outputs": []
    },
    {
      "cell_type": "code",
      "source": [
        "\"\"\"\n",
        "To write this piece of code I took inspiration/code from a lot of places.\n",
        "It was late night, so I'm not sure how much I created or just copied o.O\n",
        "Here are some of the possible references:\n",
        "https://blog.addpipe.com/recording-audio-in-the-browser-using-pure-html5-and-minimal-javascript/\n",
        "https://stackoverflow.com/a/18650249\n",
        "https://hacks.mozilla.org/2014/06/easy-audio-capture-with-the-mediarecorder-api/\n",
        "https://air.ghost.io/recording-to-an-audio-file-using-html5-and-js/\n",
        "https://stackoverflow.com/a/49019356\n",
        "\"\"\"\n",
        "from IPython.display import HTML, Audio\n",
        "from google.colab.output import eval_js\n",
        "from base64 import b64decode\n",
        "import numpy as np\n",
        "from scipy.io.wavfile import read as wav_read\n",
        "import io\n",
        "import ffmpeg\n",
        "import soundfile as sf\n",
        "\n",
        "AUDIO_HTML = \"\"\"\n",
        "<script>\n",
        "var my_div = document.createElement(\"DIV\");\n",
        "var my_p = document.createElement(\"P\");\n",
        "var my_btn = document.createElement(\"BUTTON\");\n",
        "var t = document.createTextNode(\"Press to start recording\");\n",
        "\n",
        "my_btn.appendChild(t);\n",
        "//my_p.appendChild(my_btn);\n",
        "my_div.appendChild(my_btn);\n",
        "document.body.appendChild(my_div);\n",
        "\n",
        "var base64data = 0;\n",
        "var reader;\n",
        "var recorder, gumStream;\n",
        "var recordButton = my_btn;\n",
        "\n",
        "var handleSuccess = function(stream) {\n",
        "  gumStream = stream;\n",
        "  var options = {\n",
        "    //bitsPerSecond: 8000, //chrome seems to ignore, always 48k\n",
        "    mimeType : 'audio/webm;codecs=opus'\n",
        "    //mimeType : 'audio/webm;codecs=pcm'\n",
        "  };            \n",
        "  //recorder = new MediaRecorder(stream, options);\n",
        "  recorder = new MediaRecorder(stream);\n",
        "  recorder.ondataavailable = function(e) {            \n",
        "    var url = URL.createObjectURL(e.data);\n",
        "    var preview = document.createElement('audio');\n",
        "    preview.controls = true;\n",
        "    preview.src = url;\n",
        "    document.body.appendChild(preview);\n",
        "\n",
        "    reader = new FileReader();\n",
        "    reader.readAsDataURL(e.data); \n",
        "    reader.onloadend = function() {\n",
        "      base64data = reader.result;\n",
        "      //console.log(\"Inside FileReader:\" + base64data);\n",
        "    }\n",
        "  };\n",
        "  recorder.start();\n",
        "  };\n",
        "\n",
        "recordButton.innerText = \"Recording... press to stop\";\n",
        "\n",
        "navigator.mediaDevices.getUserMedia({audio: true}).then(handleSuccess);\n",
        "\n",
        "\n",
        "function toggleRecording() {\n",
        "  if (recorder && recorder.state == \"recording\") {\n",
        "      recorder.stop();\n",
        "      gumStream.getAudioTracks()[0].stop();\n",
        "      recordButton.innerText = \"recorded voice was saved as 'Recorded_voice'!\"\n",
        "   }\n",
        "}\n",
        "\n",
        "// https://stackoverflow.com/a/951057\n",
        "function sleep(ms) {\n",
        "  return new Promise(resolve => setTimeout(resolve, ms));\n",
        "}\n",
        "\n",
        "var data = new Promise(resolve=>{\n",
        "//recordButton.addEventListener(\"click\", toggleRecording);\n",
        "recordButton.onclick = ()=>{\n",
        "toggleRecording()\n",
        "\n",
        "sleep(2000).then(() => {\n",
        "  // wait 2000ms for the data to be available...\n",
        "  // ideally this should use something like await...\n",
        "  //console.log(\"Inside data:\" + base64data)\n",
        "  resolve(base64data.toString())\n",
        "\n",
        "});\n",
        "\n",
        "}\n",
        "});\n",
        "      \n",
        "</script>\n",
        "\"\"\"\n",
        "\n",
        "def get_audio():\n",
        "  display(HTML(AUDIO_HTML))\n",
        "  data = eval_js(\"data\")\n",
        "  binary = b64decode(data.split(',')[1])\n",
        "  \n",
        "  process = (ffmpeg\n",
        "    .input('pipe:0')\n",
        "    .output('pipe:1', format='wav')\n",
        "    .run_async(pipe_stdin=True, pipe_stdout=True, pipe_stderr=True, quiet=True, overwrite_output=True)\n",
        "  )\n",
        "  output, err = process.communicate(input=binary)\n",
        "  \n",
        "  riff_chunk_size = len(output) - 8\n",
        "  # Break up the chunk size into four bytes, held in b.\n",
        "  q = riff_chunk_size\n",
        "  b = []\n",
        "  for i in range(4):\n",
        "      q, r = divmod(q, 256)\n",
        "      b.append(r)\n",
        "\n",
        "  # Replace bytes 4:8 in proc.stdout with the actual size of the RIFF chunk.\n",
        "  riff = output[:4] + bytes(b) + output[8:]\n",
        "\n",
        "  sr, audio = wav_read(io.BytesIO(riff))\n",
        "  audio = audio / np.max(abs(audio))\n",
        "  sf.write('tmp.wav', audio, sr)\n",
        "  from pydub import AudioSegment\n",
        "  sound = AudioSegment.from_wav(\"/content/tmp.wav\")\n",
        "  sound = sound.set_channels(1)\n",
        "  sound.export(\"/content/Recorded_voice.wav\", format=\"wav\")\n",
        "\n",
        "  return audio, sr\n"
      ],
      "metadata": {
        "id": "0vcDM8eu8-L8"
      },
      "execution_count": 24,
      "outputs": []
    },
    {
      "cell_type": "code",
      "source": [
        "\n",
        "audio, sr = get_audio()\n",
        "\n",
        "# saving file sometimes need longer time"
      ],
      "metadata": {
        "colab": {
          "base_uri": "https://localhost:8080/",
          "height": 83
        },
        "id": "ieDOhBbs9EzC",
        "outputId": "995f8d56-177d-4acd-c875-513ede667c63"
      },
      "execution_count": 25,
      "outputs": [
        {
          "output_type": "display_data",
          "data": {
            "text/plain": [
              "<IPython.core.display.HTML object>"
            ],
            "text/html": [
              "\n",
              "<script>\n",
              "var my_div = document.createElement(\"DIV\");\n",
              "var my_p = document.createElement(\"P\");\n",
              "var my_btn = document.createElement(\"BUTTON\");\n",
              "var t = document.createTextNode(\"Press to start recording\");\n",
              "\n",
              "my_btn.appendChild(t);\n",
              "//my_p.appendChild(my_btn);\n",
              "my_div.appendChild(my_btn);\n",
              "document.body.appendChild(my_div);\n",
              "\n",
              "var base64data = 0;\n",
              "var reader;\n",
              "var recorder, gumStream;\n",
              "var recordButton = my_btn;\n",
              "\n",
              "var handleSuccess = function(stream) {\n",
              "  gumStream = stream;\n",
              "  var options = {\n",
              "    //bitsPerSecond: 8000, //chrome seems to ignore, always 48k\n",
              "    mimeType : 'audio/webm;codecs=opus'\n",
              "    //mimeType : 'audio/webm;codecs=pcm'\n",
              "  };            \n",
              "  //recorder = new MediaRecorder(stream, options);\n",
              "  recorder = new MediaRecorder(stream);\n",
              "  recorder.ondataavailable = function(e) {            \n",
              "    var url = URL.createObjectURL(e.data);\n",
              "    var preview = document.createElement('audio');\n",
              "    preview.controls = true;\n",
              "    preview.src = url;\n",
              "    document.body.appendChild(preview);\n",
              "\n",
              "    reader = new FileReader();\n",
              "    reader.readAsDataURL(e.data); \n",
              "    reader.onloadend = function() {\n",
              "      base64data = reader.result;\n",
              "      //console.log(\"Inside FileReader:\" + base64data);\n",
              "    }\n",
              "  };\n",
              "  recorder.start();\n",
              "  };\n",
              "\n",
              "recordButton.innerText = \"Recording... press to stop\";\n",
              "\n",
              "navigator.mediaDevices.getUserMedia({audio: true}).then(handleSuccess);\n",
              "\n",
              "\n",
              "function toggleRecording() {\n",
              "  if (recorder && recorder.state == \"recording\") {\n",
              "      recorder.stop();\n",
              "      gumStream.getAudioTracks()[0].stop();\n",
              "      recordButton.innerText = \"recorded voice was saved as 'Recorded_voice'!\"\n",
              "   }\n",
              "}\n",
              "\n",
              "// https://stackoverflow.com/a/951057\n",
              "function sleep(ms) {\n",
              "  return new Promise(resolve => setTimeout(resolve, ms));\n",
              "}\n",
              "\n",
              "var data = new Promise(resolve=>{\n",
              "//recordButton.addEventListener(\"click\", toggleRecording);\n",
              "recordButton.onclick = ()=>{\n",
              "toggleRecording()\n",
              "\n",
              "sleep(2000).then(() => {\n",
              "  // wait 2000ms for the data to be available...\n",
              "  // ideally this should use something like await...\n",
              "  //console.log(\"Inside data:\" + base64data)\n",
              "  resolve(base64data.toString())\n",
              "\n",
              "});\n",
              "\n",
              "}\n",
              "});\n",
              "      \n",
              "</script>\n"
            ]
          },
          "metadata": {}
        }
      ]
    },
    {
      "cell_type": "code",
      "source": [
        "import matplotlib.pyplot as plt\n",
        "from scipy.io.wavfile import read as wav_read\n",
        "sr, audio = wav_read(\"/content/Recorded_voice.wav\")\n",
        "plt.figure(figsize=(20,10))\n",
        "plt.plot(audio)\n",
        "plt.show()"
      ],
      "metadata": {
        "colab": {
          "base_uri": "https://localhost:8080/",
          "height": 519
        },
        "id": "cYXTFZWE9Lsc",
        "outputId": "45e82255-1a13-42b5-dc27-4921904052f5"
      },
      "execution_count": 26,
      "outputs": [
        {
          "output_type": "display_data",
          "data": {
            "text/plain": [
              "<Figure size 1440x720 with 1 Axes>"
            ],
            "image/png": "[encoded data removed]"
          },
          "metadata": {
            "needs_background": "light"
          }
        }
      ]
    },
    {
      "cell_type": "markdown",
      "source": [
        "## Using vosk model "
      ],
      "metadata": {
        "id": "Xcvrmnw9Hd6j"
      }
    },
    {
      "cell_type": "code",
      "execution_count": 27,
      "metadata": {
        "colab": {
          "base_uri": "https://localhost:8080/"
        },
        "id": "j6A89i8fr9FE",
        "outputId": "76e65221-85b2-4868-ad83-f8c5fbe65958"
      },
      "outputs": [
        {
          "output_type": "stream",
          "name": "stdout",
          "text": [
            "{\n",
            "  \"partial\" : \"\"\n",
            "}\n",
            "{\n",
            "  \"partial\" : \"\"\n",
            "}\n",
            "{\n",
            "  \"partial\" : \"\"\n",
            "}\n",
            "{\n",
            "  \"partial\" : \"\"\n",
            "}\n",
            "{\n",
            "  \"partial\" : \"\"\n",
            "}\n",
            "{\n",
            "  \"partial\" : \"\"\n",
            "}\n",
            "{\n",
            "  \"partial\" : \"\"\n",
            "}\n",
            "{\n",
            "  \"partial\" : \"\"\n",
            "}\n",
            "{\n",
            "  \"partial\" : \"\"\n",
            "}\n",
            "{\n",
            "  \"partial\" : \"\"\n",
            "}\n",
            "{\n",
            "  \"partial\" : \"\"\n",
            "}\n",
            "{\n",
            "  \"partial\" : \"\"\n",
            "}\n",
            "{\n",
            "  \"partial\" : \"\"\n",
            "}\n",
            "{\n",
            "  \"partial\" : \"\"\n",
            "}\n",
            "{\n",
            "  \"partial\" : \"\"\n",
            "}\n",
            "{\n",
            "  \"partial\" : \"\"\n",
            "}\n",
            "{\n",
            "  \"partial\" : \"\"\n",
            "}\n",
            "{\n",
            "  \"partial\" : \"\"\n",
            "}\n",
            "{\n",
            "  \"partial\" : \"\"\n",
            "}\n",
            "{\n",
            "  \"partial\" : \"\"\n",
            "}\n",
            "{\n",
            "  \"partial\" : \"\"\n",
            "}\n",
            "{\n",
            "  \"partial\" : \"\"\n",
            "}\n",
            "{\n",
            "  \"partial\" : \"\"\n",
            "}\n",
            "{\n",
            "  \"partial\" : \"\"\n",
            "}\n",
            "{\n",
            "  \"partial\" : \"\"\n",
            "}\n",
            "{\n",
            "  \"partial\" : \"\"\n",
            "}\n",
            "{\n",
            "  \"partial\" : \"\"\n",
            "}\n",
            "{\n",
            "  \"partial\" : \"\"\n",
            "}\n",
            "{\n",
            "  \"partial\" : \"\"\n",
            "}\n",
            "{\n",
            "  \"partial\" : \"\"\n",
            "}\n",
            "{\n",
            "  \"partial\" : \"\"\n",
            "}\n",
            "{\n",
            "  \"partial\" : \"\"\n",
            "}\n",
            "{\n",
            "  \"partial\" : \"\"\n",
            "}\n",
            "{\n",
            "  \"result\" : [{\n",
            "      \"conf\" : 0.952674,\n",
            "      \"end\" : 1.050000,\n",
            "      \"start\" : 0.390000,\n",
            "      \"word\" : \"یک\"\n",
            "    }, {\n",
            "      \"conf\" : 1.000000,\n",
            "      \"end\" : 1.470000,\n",
            "      \"start\" : 1.140000,\n",
            "      \"word\" : \"دو\"\n",
            "    }, {\n",
            "      \"conf\" : 1.000000,\n",
            "      \"end\" : 2.100000,\n",
            "      \"start\" : 1.560000,\n",
            "      \"word\" : \"سه\"\n",
            "    }],\n",
            "  \"text\" : \"یک دو سه\"\n",
            "}\n"
          ]
        }
      ],
      "source": [
        "import wave\n",
        "import sys\n",
        "\n",
        "from vosk import Model, KaldiRecognizer, SetLogLevel\n",
        "\n",
        "# You can set log level to -1 to disable debug messages\n",
        "SetLogLevel(0)\n",
        "\n",
        "wf = wave.open(\"/content/Recorded_voice.wav\", \"rb\")\n",
        "if wf.getnchannels() != 1 or wf.getsampwidth() != 2 or wf.getcomptype() != \"NONE\":\n",
        "    print(\"Audio file must be WAV format mono PCM.\")\n",
        "    sys.exit(1)\n",
        "\n",
        "model = Model(\"/content/vosk-model-fa-0.5\")\n",
        "\n",
        "# You can also init model by name or with a folder path\n",
        "# model = Model(model_name=\"vosk-model-en-us-0.21\")\n",
        "# model = Model(\"models/en\")\n",
        "\n",
        "rec = KaldiRecognizer(model, wf.getframerate())\n",
        "rec.SetWords(True)\n",
        "rec.SetPartialWords(True)\n",
        "\n",
        "while True:\n",
        "    data = wf.readframes(4000)\n",
        "    if len(data) == 0:\n",
        "        break\n",
        "    if rec.AcceptWaveform(data):\n",
        "        print(rec.Result())\n",
        "    else:\n",
        "        print(rec.PartialResult())\n",
        "\n",
        "print(rec.FinalResult())"
      ]
    }
  ]
}