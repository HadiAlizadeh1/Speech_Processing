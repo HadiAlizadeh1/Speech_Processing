{
  "nbformat": 4,
  "nbformat_minor": 0,
  "metadata": {
    "colab": {
      "provenance": [],
      "collapsed_sections": [],
      "authorship_tag": "ABX9TyM54XVEJPiRq7V9cs1vEP7M",
      "include_colab_link": true
    },
    "kernelspec": {
      "name": "python3",
      "display_name": "Python 3"
    },
    "language_info": {
      "name": "python"
    }
  },
  "cells": [
    {
      "cell_type": "markdown",
      "metadata": {
        "id": "view-in-github",
        "colab_type": "text"
      },
      "source": [
        "<a href=\"https://colab.research.google.com/github/HadiAlizadeh1/mci-chatbot/blob/main/echo_bot_py.ipynb\" target=\"_parent\"><img src=\"https://colab.research.google.com/assets/colab-badge.svg\" alt=\"Open In Colab\"/></a>"
      ]
    },
    {
      "cell_type": "code",
      "execution_count": 4,
      "metadata": {
        "id": "x39tDhdXFUFz",
        "colab": {
          "base_uri": "https://localhost:8080/"
        },
        "outputId": "abdff1cc-98ce-401d-fb0f-53d858b593fb"
      },
      "outputs": [
        {
          "output_type": "stream",
          "name": "stdout",
          "text": [
            "Looking in indexes: https://pypi.org/simple, https://us-python.pkg.dev/colab-wheels/public/simple/\n",
            "Collecting pyTelegramBotAPI\n",
            "  Downloading pyTelegramBotAPI-4.7.0.tar.gz (210 kB)\n",
            "\u001b[K     |████████████████████████████████| 210 kB 5.2 MB/s \n",
            "\u001b[?25hRequirement already satisfied: requests in /usr/local/lib/python3.7/dist-packages (from pyTelegramBotAPI) (2.23.0)\n",
            "Requirement already satisfied: certifi>=2017.4.17 in /usr/local/lib/python3.7/dist-packages (from requests->pyTelegramBotAPI) (2022.6.15)\n",
            "Requirement already satisfied: urllib3!=1.25.0,!=1.25.1,<1.26,>=1.21.1 in /usr/local/lib/python3.7/dist-packages (from requests->pyTelegramBotAPI) (1.24.3)\n",
            "Requirement already satisfied: idna<3,>=2.5 in /usr/local/lib/python3.7/dist-packages (from requests->pyTelegramBotAPI) (2.10)\n",
            "Requirement already satisfied: chardet<4,>=3.0.2 in /usr/local/lib/python3.7/dist-packages (from requests->pyTelegramBotAPI) (3.0.4)\n",
            "Building wheels for collected packages: pyTelegramBotAPI\n",
            "  Building wheel for pyTelegramBotAPI (setup.py) ... \u001b[?25l\u001b[?25hdone\n",
            "  Created wheel for pyTelegramBotAPI: filename=pyTelegramBotAPI-4.7.0-py3-none-any.whl size=192826 sha256=0a8e82630129512baf5f781be286cce917e68d01c7dddb8a56b4c7ef7b7b449e\n",
            "  Stored in directory: /root/.cache/pip/wheels/ba/13/da/8abf941f7cf9f993cde6118a56a7c24e12ed791507acd8ea39\n",
            "Successfully built pyTelegramBotAPI\n",
            "Installing collected packages: pyTelegramBotAPI\n",
            "Successfully installed pyTelegramBotAPI-4.7.0\n"
          ]
        }
      ],
      "source": [
        "! pip install pyTelegramBotAPI"
      ]
    },
    {
      "cell_type": "markdown",
      "source": [
        "## Writing bot\n",
        "Prerequisites\\\n",
        "It is presumed that you have obtained an API token with @BotFather. We will call this token TOKEN. Furthermore, you have basic knowledge of the Python programming language and more importantly the Telegram Bot API."
      ],
      "metadata": {
        "id": "Wd_RPQ6ER5ID"
      }
    },
    {
      "cell_type": "code",
      "source": [
        "TOKEN = \":)\""
      ],
      "metadata": {
        "id": "erDzx7kTUnd8"
      },
      "execution_count": 10,
      "outputs": []
    },
    {
      "cell_type": "code",
      "source": [
        "import telebot\n",
        "\n",
        "bot = telebot.TeleBot(TOKEN, parse_mode=None) # You can set parse_mode by default. HTML or MARKDOWN"
      ],
      "metadata": {
        "id": "5_836Ym9Uhep"
      },
      "execution_count": 11,
      "outputs": []
    },
    {
      "cell_type": "markdown",
      "source": [
        "After that declaration, we need to register some so-called message handlers. Message handlers define filters which a message must pass. If a message passes the filter, the decorated function is called and the incoming message is passed as an argument.\n",
        "\n",
        "Let's define a message handler ."
      ],
      "metadata": {
        "id": "ikGqN2hOXzqP"
      }
    },
    {
      "cell_type": "code",
      "source": [
        "@bot.message_handler(func=lambda m: True)\n",
        "def echo_all(message):\n",
        "\tbot.reply_to(message, message.text)"
      ],
      "metadata": {
        "id": "nVTu7cHzYJej"
      },
      "execution_count": 13,
      "outputs": []
    },
    {
      "cell_type": "markdown",
      "source": [
        "This one echoes all incoming text messages back to the sender. It uses a lambda function to test a message. If the lambda returns True, the message is handled by the decorated function. Since we want all messages to be handled by this function, we simply always return True."
      ],
      "metadata": {
        "id": "SDg0E5uiYgN1"
      }
    },
    {
      "cell_type": "code",
      "source": [
        "#!/usr/bin/python\n",
        "\n",
        "# This is a simple echo bot using the decorator mechanism.\n",
        "# It echoes any incoming text messages.\n",
        "import telebot\n",
        "bot = telebot.TeleBot(TOKEN)\n",
        "\n",
        "from telebot.async_telebot import AsyncTeleBot\n",
        "#bot = AsyncTeleBot(TOKEN)\n",
        "\n",
        "\n",
        "\n",
        "# Handle '/start' and '/help'\n",
        "@bot.message_handler(commands=['help', 'start'])\n",
        "async def send_welcome(message):\n",
        "    await bot.reply_to(message, \"\"\"\\\n",
        "Hi there, I am EchoBot.\n",
        "I am here to echo your kind words back to you. Just say anything nice and I'll say the exact same thing to you!\\\n",
        "\"\"\")\n",
        "\n",
        "\n",
        "# Handle all other messages with content_type 'text' (content_types defaults to ['text'])\n",
        "@bot.message_handler(func=lambda message: True)\n",
        "async def echo_message(message):\n",
        "    await bot.reply_to(message, message.text)\n",
        "\n",
        "\n",
        "import asyncio\n",
        "bot.infinity_polling()"
      ],
      "metadata": {
        "colab": {
          "base_uri": "https://localhost:8080/"
        },
        "id": "pGUgJCAYum2A",
        "outputId": "727b4805-000d-47b4-b41a-6f3c15d3a685"
      },
      "execution_count": 30,
      "outputs": [
        {
          "output_type": "stream",
          "name": "stderr",
          "text": [
            "2022-10-06 10:05:58,670 (__init__.py:884 MainThread) ERROR - TeleBot: \"Infinity polling: polling exited\"\n",
            "ERROR:TeleBot:Infinity polling: polling exited\n",
            "2022-10-06 10:05:58,674 (__init__.py:886 MainThread) ERROR - TeleBot: \"Break infinity polling\"\n",
            "ERROR:TeleBot:Break infinity polling\n"
          ]
        }
      ]
    }
  ]
}