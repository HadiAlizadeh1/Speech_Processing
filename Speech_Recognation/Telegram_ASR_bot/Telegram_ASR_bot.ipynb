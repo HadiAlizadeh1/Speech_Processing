{
  "cells": [
    {
      "cell_type": "markdown",
      "metadata": {
        "colab_type": "text",
        "id": "view-in-github"
      },
      "source": [
        "<a href=\"https://colab.research.google.com/github/HadiAlizadeh1/mci-chatbot/blob/main/task_005.ipynb\" target=\"_parent\"><img src=\"https://colab.research.google.com/assets/colab-badge.svg\" alt=\"Open In Colab\"/></a>"
      ]
    },
    {
      "cell_type": "markdown",
      "metadata": {},
      "source": [
        "# In the name of Allah\n",
        "\n",
        "\n",
        "## Befor start Get a Telegram Bot Token\n",
        "\n",
        "1. **Start a chat with BotFather**  \n",
        "   - Open Telegram and search for **@BotFather** or visit [BotFather](https://t.me/BotFather).\n",
        "\n",
        "2. **Create a New Bot**  \n",
        "   - Type the command: `/newbot`  \n",
        "   - Choose a **name** for your bot (e.g., `My Awesome Bot`).  \n",
        "   - Choose a **username** (must end with `bot`, e.g., `my_awesome_bot`).\n",
        "\n",
        "3. **Receive Your Bot Token**  \n",
        "   - After creating your bot, you will receive a token like this:\n",
        "     ```\n",
        "     1234567890:ABCDEFGHIJKLMNOPQRSTUVWXYZ-abcdefghijklmnopqrstuvwxyz\n",
        "     ```\n",
        "\n",
        "4. **Use the Token**  \n",
        "   - To interact with the Telegram API, use the token in URLs like:\n",
        "     ```\n",
        "     https://api.telegram.org/bot<Your_Bot_Token>/METHOD_NAME\n",
        "     ```\n",
        "\n",
        "5. **Optional: Configure Your Bot**  \n",
        "   - Additional configuration commands via BotFather:\n",
        "     - `/setdescription` – Set bot description\n",
        "     - `/setcommands` – Set bot commands\n",
        "     - `/setuserpic` – Set bot avatar\n",
        "     - `/setprivacy` – Set privacy settings\n"
      ]
    },
    {
      "cell_type": "code",
      "execution_count": 1,
      "metadata": {
        "colab": {
          "base_uri": "https://localhost:8080/"
        },
        "id": "8DKkZdraplV-",
        "outputId": "b6d556a8-55c1-4bfa-e629-7d8071fda064"
      },
      "outputs": [
        {
          "name": "stdout",
          "output_type": "stream",
          "text": [
            "Looking in indexes: https://pypi.org/simple, https://us-python.pkg.dev/colab-wheels/public/simple/\n",
            "Collecting vosk\n",
            "  Downloading vosk-0.3.44-py3-none-manylinux_2_12_x86_64.manylinux2010_x86_64.whl (7.2 MB)\n",
            "\u001b[K     |████████████████████████████████| 7.2 MB 36.3 MB/s \n",
            "\u001b[?25hCollecting websockets\n",
            "  Downloading websockets-10.3-cp37-cp37m-manylinux_2_5_x86_64.manylinux1_x86_64.manylinux_2_12_x86_64.manylinux2010_x86_64.whl (112 kB)\n",
            "\u001b[K     |████████████████████████████████| 112 kB 76.6 MB/s \n",
            "\u001b[?25hRequirement already satisfied: tqdm in /usr/local/lib/python3.7/dist-packages (from vosk) (4.64.1)\n",
            "Requirement already satisfied: cffi>=1.0 in /usr/local/lib/python3.7/dist-packages (from vosk) (1.15.1)\n",
            "Collecting srt\n",
            "  Downloading srt-3.5.2.tar.gz (24 kB)\n",
            "Requirement already satisfied: requests in /usr/local/lib/python3.7/dist-packages (from vosk) (2.23.0)\n",
            "Requirement already satisfied: pycparser in /usr/local/lib/python3.7/dist-packages (from cffi>=1.0->vosk) (2.21)\n",
            "Requirement already satisfied: idna<3,>=2.5 in /usr/local/lib/python3.7/dist-packages (from requests->vosk) (2.10)\n",
            "Requirement already satisfied: certifi>=2017.4.17 in /usr/local/lib/python3.7/dist-packages (from requests->vosk) (2022.9.24)\n",
            "Requirement already satisfied: chardet<4,>=3.0.2 in /usr/local/lib/python3.7/dist-packages (from requests->vosk) (3.0.4)\n",
            "Requirement already satisfied: urllib3!=1.25.0,!=1.25.1,<1.26,>=1.21.1 in /usr/local/lib/python3.7/dist-packages (from requests->vosk) (1.24.3)\n",
            "Building wheels for collected packages: srt\n",
            "  Building wheel for srt (setup.py) ... \u001b[?25l\u001b[?25hdone\n",
            "  Created wheel for srt: filename=srt-3.5.2-py3-none-any.whl size=22487 sha256=280fc92d46e073b00bf44f3f73fb80f7f41f529d7cff3534d543ab01170be2a9\n",
            "  Stored in directory: /root/.cache/pip/wheels/54/c4/ec/4604122e072aebb16803c8297b7cd3f4c72073a3ee58738015\n",
            "Successfully built srt\n",
            "Installing collected packages: websockets, srt, vosk\n",
            "Successfully installed srt-3.5.2 vosk-0.3.44 websockets-10.3\n",
            "--2022-10-11 21:00:59--  https://alphacephei.com/vosk/models/vosk-model-fa-0.5.zip\n",
            "Resolving alphacephei.com (alphacephei.com)... 188.40.21.16, 2a01:4f8:13a:279f::2\n",
            "Connecting to alphacephei.com (alphacephei.com)|188.40.21.16|:443... connected.\n",
            "HTTP request sent, awaiting response... 200 OK\n",
            "Length: 1130835264 (1.1G) [application/zip]\n",
            "Saving to: ‘vosk-model-fa-0.5.zip’\n",
            "\n",
            "vosk-model-fa-0.5.z 100%[===================>]   1.05G  30.5MB/s    in 36s     \n",
            "\n",
            "2022-10-11 21:01:36 (29.8 MB/s) - ‘vosk-model-fa-0.5.zip’ saved [1130835264/1130835264]\n",
            "\n",
            "Archive:  vosk-model-fa-0.5.zip\n",
            "   creating: vosk-model-fa-0.5/\n",
            "   creating: vosk-model-fa-0.5/rescore/\n",
            "  inflating: vosk-model-fa-0.5/rescore/G.carpa  \n",
            "  inflating: vosk-model-fa-0.5/rescore/G.fst  \n",
            "   creating: vosk-model-fa-0.5/test/\n",
            " extracting: vosk-model-fa-0.5/test/test.txt  \n",
            "  inflating: vosk-model-fa-0.5/test/test.wav  \n",
            "  inflating: vosk-model-fa-0.5/test/test_simple.py  \n",
            "   creating: vosk-model-fa-0.5/am/\n",
            "  inflating: vosk-model-fa-0.5/am/final.mdl  \n",
            "  inflating: vosk-model-fa-0.5/am/tree  \n",
            "   creating: vosk-model-fa-0.5/graph/\n",
            "  inflating: vosk-model-fa-0.5/graph/words.txt  \n",
            "  inflating: vosk-model-fa-0.5/graph/HCLG.fst  \n",
            "   creating: vosk-model-fa-0.5/graph/phones/\n",
            "  inflating: vosk-model-fa-0.5/graph/phones/word_boundary.int  \n",
            "   creating: vosk-model-fa-0.5/conf/\n",
            "  inflating: vosk-model-fa-0.5/conf/model.conf  \n",
            "  inflating: vosk-model-fa-0.5/conf/mfcc.conf  \n",
            "   creating: vosk-model-fa-0.5/ivector/\n",
            "  inflating: vosk-model-fa-0.5/ivector/splice.conf  \n",
            "  inflating: vosk-model-fa-0.5/ivector/final.dubm  \n",
            "  inflating: vosk-model-fa-0.5/ivector/global_cmvn.stats  \n",
            "  inflating: vosk-model-fa-0.5/ivector/final.ie  \n",
            "  inflating: vosk-model-fa-0.5/ivector/online_cmvn.conf  \n",
            "  inflating: vosk-model-fa-0.5/ivector/final.mat  \n",
            " extracting: vosk-model-fa-0.5/README  \n"
          ]
        }
      ],
      "source": [
        "!pip install vosk # installing vosk model\n",
        "!wget https://alphacephei.com/vosk/models/vosk-model-fa-0.5.zip # download Persian dataset by Url\n",
        "!unzip vosk-model-fa-0.5.zip # unzip the dataset"
      ]
    },
    {
      "cell_type": "markdown",
      "metadata": {
        "id": "iiTT0KwSqt2j"
      },
      "source": [
        "## Connecting to Telegram chat bot"
      ]
    },
    {
      "cell_type": "code",
      "execution_count": 1,
      "metadata": {
        "id": "oSJoXfoOrJa-"
      },
      "outputs": [],
      "source": [
        "TOKEN = \"\""
      ]
    },
    {
      "cell_type": "code",
      "execution_count": 2,
      "metadata": {
        "colab": {
          "base_uri": "https://localhost:8080/"
        },
        "id": "vfUEPZp_rbGS",
        "outputId": "d5037a7a-ec21-4736-9a37-2dfa1721ada8"
      },
      "outputs": [
        {
          "name": "stdout",
          "output_type": "stream",
          "text": [
            "Looking in indexes: https://pypi.org/simple, https://us-python.pkg.dev/colab-wheels/public/simple/\n",
            "Requirement already satisfied: python-telegram-bot~=13.11 in /usr/local/lib/python3.7/dist-packages (13.14)\n",
            "Requirement already satisfied: tornado==6.1 in /usr/local/lib/python3.7/dist-packages (from python-telegram-bot~=13.11) (6.1)\n",
            "Requirement already satisfied: certifi in /usr/local/lib/python3.7/dist-packages (from python-telegram-bot~=13.11) (2022.9.24)\n",
            "Requirement already satisfied: APScheduler==3.6.3 in /usr/local/lib/python3.7/dist-packages (from python-telegram-bot~=13.11) (3.6.3)\n",
            "Requirement already satisfied: pytz>=2018.6 in /usr/local/lib/python3.7/dist-packages (from python-telegram-bot~=13.11) (2022.4)\n",
            "Requirement already satisfied: cachetools==4.2.2 in /usr/local/lib/python3.7/dist-packages (from python-telegram-bot~=13.11) (4.2.2)\n",
            "Requirement already satisfied: six>=1.4.0 in /usr/local/lib/python3.7/dist-packages (from APScheduler==3.6.3->python-telegram-bot~=13.11) (1.15.0)\n",
            "Requirement already satisfied: setuptools>=0.7 in /usr/local/lib/python3.7/dist-packages (from APScheduler==3.6.3->python-telegram-bot~=13.11) (57.4.0)\n",
            "Requirement already satisfied: tzlocal>=1.2 in /usr/local/lib/python3.7/dist-packages (from APScheduler==3.6.3->python-telegram-bot~=13.11) (1.5.1)\n"
          ]
        }
      ],
      "source": [
        "!pip install python-telegram-bot~=13.11"
      ]
    },
    {
      "cell_type": "code",
      "execution_count": 4,
      "metadata": {
        "colab": {
          "base_uri": "https://localhost:8080/"
        },
        "id": "YRnHJhwW56hk",
        "outputId": "1350a011-bb58-4203-b19d-2d7e2675ff40"
      },
      "outputs": [
        {
          "name": "stdout",
          "output_type": "stream",
          "text": [
            "Looking in indexes: https://pypi.org/simple, https://us-python.pkg.dev/colab-wheels/public/simple/\n",
            "Collecting pydub\n",
            "  Downloading pydub-0.25.1-py2.py3-none-any.whl (32 kB)\n",
            "Installing collected packages: pydub\n",
            "Successfully installed pydub-0.25.1\n"
          ]
        }
      ],
      "source": [
        "! pip install pydub"
      ]
    },
    {
      "cell_type": "markdown",
      "metadata": {
        "id": "B2IANuAPsqeD"
      },
      "source": [
        "## Using Vosk model\n",
        "we use vosk model to change voice to text"
      ]
    },
    {
      "cell_type": "code",
      "execution_count": 8,
      "metadata": {
        "id": "Et7DqXRmrcZC"
      },
      "outputs": [],
      "source": [
        "from telegram import Update\n",
        "from telegram.ext import Updater, CallbackContext, MessageHandler, Filters\n",
        "import librosa as lib\n",
        "import os,sys # about changing audio format\n",
        "from pydub import AudioSegment # about changing audio format\n",
        "import soundfile\n",
        "import wave # about vosk model function\n",
        "import sys  # about vosk model function\n",
        "from vosk import Model, KaldiRecognizer, SetLogLevel # about vosk model function\n",
        "from pydub import AudioSegment # about vosk model function\n",
        "\n",
        "def get_voice(update: Update, context: CallbackContext) -> None:\n",
        "    new_file = context.bot.get_file(update.message.voice.file_id)\n",
        "    recived_voice=new_file.download(\"voice_note.ogg\")\n",
        "    update.message.reply_text('صوت شما دریافت شد...لطفا کمی صبر کنید')\n",
        "    song = AudioSegment.from_ogg(\"/content/voice_note.ogg\") # converting ogg file\n",
        "    speech_voice = song.export(\"speech_voice.wav\", format=\"wav\") # saving .wav format of voice in speech_voice.wav\n",
        "    signal,sr=lib.load(\"/content/speech_voice.wav\",sr=48000) # changing sampling_rate to 48000\n",
        "    soundfile.write('/content/speech_voice.wav',signal,sr)\n",
        "\n",
        "    sound = AudioSegment.from_wav(\"/content/speech_voice.wav\")\n",
        "    sound = sound.set_channels(1)\n",
        "    sound.export(\"/content/Recorded_voice.wav\", format=\"wav\") # crate 1 channel Audio\n",
        "   \n",
        "\n",
        "    # vosk vosk\n",
        "    wf = wave.open(\"/content/Recorded_voice.wav\", \"rb\")\n",
        "\n",
        "    model = Model(\"/content/vosk-model-fa-0.5\")\n",
        "\n",
        "    # You can also init model by name or with a folder path\n",
        "    # model = Model(model_name=\"vosk-model-en-us-0.21\")\n",
        "    # model = Model(\"models/en\")\n",
        "\n",
        "    rec = KaldiRecognizer(model, wf.getframerate())\n",
        "    rec.SetWords(True)\n",
        "    rec.SetPartialWords(True)\n",
        "\n",
        "    while True:\n",
        "        data = wf.readframes(4000)\n",
        "        if len(data) == 0:\n",
        "            break\n",
        "        if rec.AcceptWaveform(data):\n",
        "            rec.Result()\n",
        "    update.message.reply_text(\"متن تشخیص داده شده :\")\n",
        "    update.message.reply_text(rec.FinalResult().split(\"]\")[1].split(\":\")[1].split(\"}\")[0])\n",
        "\n",
        "updater = Updater(TOKEN)\n",
        "\n",
        "updater.dispatcher.add_handler(MessageHandler(Filters.voice , get_voice))\n",
        "\n",
        "updater.start_polling()\n",
        "updater.idle()"
      ]
    }
  ],
  "metadata": {
    "colab": {
      "collapsed_sections": [],
      "include_colab_link": true,
      "provenance": []
    },
    "kernelspec": {
      "display_name": "Python 3",
      "name": "python3"
    },
    "language_info": {
      "name": "python"
    }
  },
  "nbformat": 4,
  "nbformat_minor": 0
}
